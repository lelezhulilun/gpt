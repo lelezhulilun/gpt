{
 "cells": [
  {
   "cell_type": "markdown",
   "metadata": {},
   "source": [
    "Before you turn this problem in, make sure everything runs as expected. First, **restart the kernel** (in the menubar, select Kernel$\\rightarrow$Restart) and then **run all cells** (in the menubar, select Cell$\\rightarrow$Run All).\n",
    "\n",
    "Make sure you fill in any place that says `YOUR CODE HERE`, as well as your name and student ID below:"
   ]
  },
  {
   "cell_type": "code",
   "execution_count": null,
   "metadata": {},
   "outputs": [],
   "source": [
    "NAME = \"lele zhang\"\n",
    "StudentID = \"2230031324\""
   ]
  },
  {
   "cell_type": "markdown",
   "metadata": {},
   "source": [
    "---"
   ]
  },
  {
   "cell_type": "markdown",
   "metadata": {},
   "source": [
    "**Submission Notes**: \n",
    "* Submit this notebook by **Tuesday 14 May 2024, 2:00pm** (Beijing time) in order to receive a grade (late submissions will not be accepted)\n",
    "* Only your last submission will be graded"
   ]
  },
  {
   "cell_type": "markdown",
   "metadata": {},
   "source": [
    "# Chapter 9. Python Exceptions Handling"
   ]
  },
  {
   "cell_type": "markdown",
   "metadata": {
    "toc": true
   },
   "source": [
    "<h1>Table of Contents<span class=\"tocSkip\"></span></h1>\n",
    "<div class=\"toc\"><ul class=\"toc-item\"><li><span><a href=\"#What-is-Exception?\" data-toc-modified-id=\"What-is-Exception?-1\"><span class=\"toc-item-num\">1&nbsp;&nbsp;</span>What is Exception?</a></span></li><li><span><a href=\"#Handling-known-exception-types:--&quot;try-...-except-...-else&quot;\" data-toc-modified-id=\"Handling-known-exception-types:--&quot;try-...-except-...-else&quot;-2\"><span class=\"toc-item-num\">2&nbsp;&nbsp;</span>Handling known exception types:  \"try ... except ... else\"</a></span></li><li><span><a href=\"#Handling-unknown-exception-types\" data-toc-modified-id=\"Handling-unknown-exception-types-3\"><span class=\"toc-item-num\">3&nbsp;&nbsp;</span>Handling unknown exception types</a></span></li><li><span><a href=\"#Handling-exceptions-with-&quot;try-...-finally&quot;-clause\" data-toc-modified-id=\"Handling-exceptions-with-&quot;try-...-finally&quot;-clause-4\"><span class=\"toc-item-num\">4&nbsp;&nbsp;</span>Handling exceptions with \"try ... finally\" clause</a></span><ul class=\"toc-item\"><li><ul class=\"toc-item\"><li><span><a href=\"#Example\" data-toc-modified-id=\"Example-4.0.1\"><span class=\"toc-item-num\">4.0.1&nbsp;&nbsp;</span>Example</a></span></li></ul></li></ul></li><li><span><a href=\"#Exercises\" data-toc-modified-id=\"Exercises-5\"><span class=\"toc-item-num\">5&nbsp;&nbsp;</span>Exercises</a></span></li><li><span><a href=\"#Raise-Exceptions\" data-toc-modified-id=\"Raise-Exceptions-6\"><span class=\"toc-item-num\">6&nbsp;&nbsp;</span>Raise Exceptions</a></span><ul class=\"toc-item\"><li><span><a href=\"#Exercise\" data-toc-modified-id=\"Exercise-6.1\"><span class=\"toc-item-num\">6.1&nbsp;&nbsp;</span>Exercise</a></span></li></ul></li><li><span><a href=\"#Assertions\" data-toc-modified-id=\"Assertions-7\"><span class=\"toc-item-num\">7&nbsp;&nbsp;</span>Assertions</a></span><ul class=\"toc-item\"><li><span><a href=\"#Exercises\" data-toc-modified-id=\"Exercises-7.1\"><span class=\"toc-item-num\">7.1&nbsp;&nbsp;</span>Exercises</a></span></li></ul></li></ul></div>"
   ]
  },
  {
   "cell_type": "markdown",
   "metadata": {},
   "source": [
    "## What is Exception?"
   ]
  },
  {
   "cell_type": "markdown",
   "metadata": {},
   "source": [
    "* An exception is an event, which occurs during the execution of a program that disrupts the normal flow of the program's instructions. In general, when a Python script encounters a situation that it cannot cope with, it raises an exception.\n",
    "*  An exception is a Python object that represents an error.\n",
    "* When a Python script raises an exception, it must either handle the exception immediately otherwise it **terminates** and quits."
   ]
  },
  {
   "cell_type": "code",
   "execution_count": null,
   "metadata": {
    "ExecuteTime": {
     "end_time": "2023-07-01T01:38:06.654113Z",
     "start_time": "2023-07-01T01:38:06.563250Z"
    }
   },
   "outputs": [],
   "source": [
    "print ('there has a lot of code here and before')\n",
    "print ('hello world')\n",
    "print (3/0)\n",
    "print ('continue my code')\n"
   ]
  },
  {
   "cell_type": "code",
   "execution_count": null,
   "metadata": {
    "ExecuteTime": {
     "end_time": "2023-07-01T01:38:49.170242Z",
     "start_time": "2023-07-01T01:38:49.162810Z"
    }
   },
   "outputs": [],
   "source": [
    "a = 1\n",
    "b = fjsdalfj\n"
   ]
  },
  {
   "cell_type": "markdown",
   "metadata": {},
   "source": [
    "**More Examples**"
   ]
  },
  {
   "cell_type": "code",
   "execution_count": null,
   "metadata": {},
   "outputs": [],
   "source": [
    "fileDir = ''\n",
    "f = open(fileDir, 'r')\n",
    "f.close()"
   ]
  },
  {
   "cell_type": "markdown",
   "metadata": {},
   "source": [
    "* **Explanation:** Since Python cannot find the file under `fileDir`, it will raise `IOError` immediately. The program will terminate and Python will quit.\n",
    "* Python has many built-in Exceptions. You can check [here](https://docs.python.org/3/library/exceptions.html)."
   ]
  },
  {
   "cell_type": "markdown",
   "metadata": {},
   "source": [
    "* In some cases, you would know that some *suspicious* code may raise an exception (e.g. irregular user input), you can defend your program by placing the suspicious code in a **try** block, and handles the potential exceptions explicitly in **except** block.\n",
    "* This is very helpful to write *strong* and *reliable* code."
   ]
  },
  {
   "cell_type": "markdown",
   "metadata": {},
   "source": [
    "## Handling known exception types:  \"try ... except ... else\" "
   ]
  },
  {
   "cell_type": "markdown",
   "metadata": {},
   "source": [
    "```python\n",
    "try:\n",
    "    You do your error prone operations here;\n",
    "    statement2\n",
    "    statement3\n",
    "    ...\n",
    "except ExceptionType1:\n",
    "    If there is ExceptionType1, then execute this block.\n",
    "    \n",
    "except ExceptionType2:\n",
    "    If there is ExceptionType2, then execute this block.\n",
    "    ......................\n",
    "else:\n",
    "    If there is not ExceptionType1 and not ExceptionType2 then execute this block. \n",
    "```"
   ]
  },
  {
   "cell_type": "markdown",
   "metadata": {
    "ExecuteTime": {
     "end_time": "2023-07-01T01:51:41.443988Z",
     "start_time": "2023-07-01T01:51:41.436670Z"
    }
   },
   "source": [
    "Here are few important points about the above-mentioned syntax:\n",
    "\n",
    "* A single `try` statement can have multiple `except` statements. This is useful when the `try` block contains statements that may throw different types of exceptions.\n",
    "* You can also provide a generic `except` clause, which handles any exception.\n",
    "* After the `except` clause(s), you can include an `else` clause. The code in the `else` block executes if the code in the `try` block does not raise an exception.\n",
    "* The `else` block is a good place for code that does not need the `try` block's protection."
   ]
  },
  {
   "cell_type": "markdown",
   "metadata": {},
   "source": [
    "**Workflow**\n",
    "* First all lines between try and except statements.\n",
    "* If ExceptionName happens during execution of the statements then except clause statements execute\n",
    "* If no exception happens then the statements inside except clause does not execute.\n",
    "* If the Exception is not handled in the except block then it goes out of try block."
   ]
  },
  {
   "cell_type": "markdown",
   "metadata": {},
   "source": [
    "**Example 1**"
   ]
  },
  {
   "cell_type": "code",
   "execution_count": null,
   "metadata": {
    "ExecuteTime": {
     "end_time": "2023-07-01T01:48:46.534595Z",
     "start_time": "2023-07-01T01:48:46.502326Z"
    }
   },
   "outputs": [],
   "source": [
    "fh = open('testfile.txt', 'r')\n",
    "s = fh.read()\n",
    "fh.close()\n",
    "print(s)"
   ]
  },
  {
   "cell_type": "code",
   "execution_count": null,
   "metadata": {
    "ExecuteTime": {
     "end_time": "2023-07-01T01:49:05.729866Z",
     "start_time": "2023-07-01T01:49:05.724245Z"
    }
   },
   "outputs": [],
   "source": [
    "try:\n",
    "    fh = open('testfile.txt', 'r')\n",
    "    s = fh.read()\n",
    "    fh.close()\n",
    "    print(s)\n",
    "except FileNotFoundError:\n",
    "    print (\"Error: can't find file\")\n",
    "else:\n",
    "    print (\"Read succeeded!\")\n",
    "    \n"
   ]
  },
  {
   "cell_type": "markdown",
   "metadata": {},
   "source": [
    "The result depends on whether your current directory contains the `testfile.txt`. If exists, the file will be read and then the `else` statement will be executed. If not, `except FileNotFoundError` will be executed."
   ]
  },
  {
   "cell_type": "markdown",
   "metadata": {},
   "source": [
    "**Example 2**"
   ]
  },
  {
   "cell_type": "code",
   "execution_count": null,
   "metadata": {
    "ExecuteTime": {
     "end_time": "2023-07-01T02:07:30.029244Z",
     "start_time": "2023-07-01T02:07:30.014234Z"
    }
   },
   "outputs": [],
   "source": [
    "def get_number(string):\n",
    "    \"\"\"\n",
    "    given a numeric string argument, \n",
    "    returns a float number\n",
    "    \"\"\"\n",
    "    \n",
    "    number = float(string)\n",
    "    \n",
    "    return number\n",
    "\n",
    "\n",
    "## Call the function\n",
    "\n",
    "try_all = [\"1\", \"1.1\", 1, \"hello\", 1.1]\n",
    "\n",
    "for item in try_all:\n",
    "\n",
    "    try:\n",
    "        i = get_number(item)\n",
    "    except ValueError:\n",
    "        print (\"You entered a wrong value.\")\n",
    "    else:\n",
    "        print ('There is no error.  the number is:', i)\n",
    "\n",
    "i"
   ]
  },
  {
   "cell_type": "markdown",
   "metadata": {},
   "source": [
    "The following is a list of common exception types:\n",
    "* ArithmeticError\n",
    "* TypeError\n",
    "* ValueError\n",
    "* SyntaxError\n",
    "* ModuleNotFoundError\n",
    "* IndexError\n",
    "* KeyError\n",
    "* NameError\n",
    "* NotImplementedError\n",
    "\n",
    "\n",
    "\n",
    "-\n",
    "For a list of build-in exception types: https://docs.python.org/3/library/exceptions.html"
   ]
  },
  {
   "cell_type": "code",
   "execution_count": null,
   "metadata": {},
   "outputs": [],
   "source": []
  },
  {
   "cell_type": "markdown",
   "metadata": {},
   "source": [
    "## Handling unknown exception types "
   ]
  },
  {
   "cell_type": "markdown",
   "metadata": {},
   "source": [
    "```python\n",
    "try:\n",
    "   You do your operations here;\n",
    "   ......................\n",
    "except:\n",
    "   If there has exception, then execute this block.\n",
    "   ......................\n",
    "else:\n",
    "   If no exception then execute this block. \n",
    "```"
   ]
  },
  {
   "cell_type": "markdown",
   "metadata": {},
   "source": [
    "* This kind of a `try-except` statement catches **all** the exceptions that occur. Using this kind of `try-except` statement is **not** considered a good programming practice though, because it catches all exceptions but does not make the programmer identify the root cause of the problem that may occur."
   ]
  },
  {
   "cell_type": "code",
   "execution_count": null,
   "metadata": {
    "ExecuteTime": {
     "end_time": "2023-07-01T02:14:11.049107Z",
     "start_time": "2023-07-01T02:14:11.039686Z"
    }
   },
   "outputs": [],
   "source": [
    "a = 20 \n",
    "b = \"10\"\n",
    "\n",
    "try:\n",
    "    c = 20 / b\n",
    "except ValueError:\n",
    "    print ('Input type is not appropriate')\n",
    "except: \n",
    "    print ('Other errors like assertion error')\n",
    "else:\n",
    "    print(c)\n"
   ]
  },
  {
   "cell_type": "markdown",
   "metadata": {},
   "source": [
    "A better way to catch an exception that is automatically recognized by Python is:"
   ]
  },
  {
   "cell_type": "code",
   "execution_count": null,
   "metadata": {
    "ExecuteTime": {
     "end_time": "2023-07-01T02:15:26.672735Z",
     "start_time": "2023-07-01T02:15:26.665319Z"
    }
   },
   "outputs": [],
   "source": [
    "\n",
    "a = 20 \n",
    "b = \"10\"\n",
    "\n",
    "try:\n",
    "    c = 20 / b\n",
    "except ValueError:\n",
    "    print ('Input type is not appropriate')\n",
    "except Exception as e: \n",
    "    print(e)\n",
    "else:\n",
    "    print(c)"
   ]
  },
  {
   "cell_type": "markdown",
   "metadata": {},
   "source": [
    "**More examples of error handling**"
   ]
  },
  {
   "cell_type": "code",
   "execution_count": null,
   "metadata": {
    "ExecuteTime": {
     "end_time": "2023-07-01T02:06:41.830123Z",
     "start_time": "2023-07-01T02:06:41.826055Z"
    },
    "code_folding": [],
    "run_control": {
     "marked": false
    }
   },
   "outputs": [],
   "source": [
    "# If you want to handle any type of exception that python generates\n",
    "\n",
    "try:\n",
    "    a = 1/0\n",
    "except Exception as e:\n",
    "    print(e)\n",
    "    \n",
    "    \n",
    "    \n",
    "    "
   ]
  },
  {
   "cell_type": "code",
   "execution_count": null,
   "metadata": {
    "ExecuteTime": {
     "end_time": "2023-07-01T02:06:52.385671Z",
     "start_time": "2023-07-01T02:06:52.380585Z"
    }
   },
   "outputs": [],
   "source": [
    "try:\n",
    "    a = hello\n",
    "except Exception as e:\n",
    "    print(e)"
   ]
  },
  {
   "cell_type": "markdown",
   "metadata": {},
   "source": [
    "* You can also use the `except` statement with no `else` statement defined as follows "
   ]
  },
  {
   "cell_type": "markdown",
   "metadata": {},
   "source": [
    "## Handling exceptions with \"try ... finally\" clause"
   ]
  },
  {
   "cell_type": "markdown",
   "metadata": {},
   "source": [
    "* You can use a `finally` block along with a `try` block. The `finally` block is a place to put any code that must execute, whether the `try` block raised an exception or not. The syntax of the `try-finally` statement is: "
   ]
  },
  {
   "cell_type": "markdown",
   "metadata": {},
   "source": [
    "```python\n",
    "try:\n",
    "   You do your operations here;\n",
    "   ......................\n",
    "   Due to any exception, this may be skipped.\n",
    "finally:\n",
    "   This would always be executed.\n",
    "   ......................\n",
    "```"
   ]
  },
  {
   "cell_type": "markdown",
   "metadata": {},
   "source": [
    "#### Example"
   ]
  },
  {
   "cell_type": "code",
   "execution_count": null,
   "metadata": {
    "ExecuteTime": {
     "end_time": "2023-07-01T02:27:08.823168Z",
     "start_time": "2023-07-01T02:27:08.806133Z"
    }
   },
   "outputs": [],
   "source": [
    "def testFunc():\n",
    "    try:\n",
    "        f = open('test.txt', 'w') # Succeeds\n",
    "        f.dummyFunction() # Exception here\n",
    "    except AttributeError:\n",
    "        print ('Exception appears happening here')\n",
    "        return # no matter what, \"finally\" will be executed\n",
    "    finally:\n",
    "        print ('I am finally here')\n",
    "        f.close() # We always close the file, even when doing return\n",
    "\n",
    "testFunc()"
   ]
  },
  {
   "cell_type": "markdown",
   "metadata": {
    "ExecuteTime": {
     "end_time": "2023-07-01T01:48:07.201938Z",
     "start_time": "2023-07-01T01:48:07.197939Z"
    },
    "deletable": false,
    "editable": false,
    "nbgrader": {
     "cell_type": "markdown",
     "checksum": "786be14b70b713f962b3289f9f15f99d",
     "grade": false,
     "grade_id": "cell-02359aa193210c14",
     "locked": true,
     "schema_version": 3,
     "solution": false,
     "task": false
    }
   },
   "source": [
    "## Exercises"
   ]
  },
  {
   "cell_type": "markdown",
   "metadata": {
    "deletable": false,
    "editable": false,
    "nbgrader": {
     "cell_type": "markdown",
     "checksum": "d4a2b753aae117c5397d33723459203d",
     "grade": false,
     "grade_id": "cell-97317cba3554f7bc",
     "locked": true,
     "schema_version": 3,
     "solution": false,
     "task": false
    }
   },
   "source": [
    "**Question 1** Define the function `safe_division(numerator, denominator)`. The function should divide the `numerator` by the `denominator` and return the result. Handle the ZeroDivisionError exception within the function and return None if the denominator is zero."
   ]
  },
  {
   "cell_type": "code",
   "execution_count": null,
   "metadata": {
    "ExecuteTime": {
     "end_time": "2023-07-01T01:45:08.912343Z",
     "start_time": "2023-07-01T01:45:08.894762Z"
    },
    "deletable": false,
    "nbgrader": {
     "cell_type": "code",
     "checksum": "42059dea6e52be929c33bb98f57a136a",
     "grade": false,
     "grade_id": "cell-9a8cab6c6f395",
     "locked": false,
     "schema_version": 3,
     "solution": true,
     "task": false
    }
   },
   "outputs": [],
   "source": [
    "\n",
    "def safe_division(numerator, denominator):\n",
    "    # YOUR CODE HERE\n",
    "\n",
    "\n",
    "# Test the function\n",
    "print(safe_division(10, 2))     # Output: 5.0\n",
    "print(safe_division(8, 0))      # Output: None\n"
   ]
  },
  {
   "cell_type": "code",
   "execution_count": null,
   "metadata": {
    "ExecuteTime": {
     "end_time": "2023-07-01T02:31:09.075659Z",
     "start_time": "2023-07-01T02:31:09.068888Z"
    },
    "deletable": false,
    "editable": false,
    "nbgrader": {
     "cell_type": "code",
     "checksum": "98a9d9f70377ba5db102039346299e5d",
     "grade": true,
     "grade_id": "cell-7a2ce0750ac81",
     "locked": true,
     "points": 5,
     "schema_version": 3,
     "solution": false,
     "task": false
    }
   },
   "outputs": [],
   "source": []
  },
  {
   "cell_type": "code",
   "execution_count": null,
   "metadata": {
    "ExecuteTime": {
     "end_time": "2023-07-01T02:31:35.392910Z",
     "start_time": "2023-07-01T02:31:35.390592Z"
    },
    "deletable": false,
    "editable": false,
    "nbgrader": {
     "cell_type": "code",
     "checksum": "4a0f247e6ade791581251fd16fefda27",
     "grade": true,
     "grade_id": "cell-01690b9481d8d",
     "locked": true,
     "points": 10,
     "schema_version": 3,
     "solution": false,
     "task": false
    }
   },
   "outputs": [],
   "source": []
  },
  {
   "cell_type": "markdown",
   "metadata": {
    "deletable": false,
    "editable": false,
    "nbgrader": {
     "cell_type": "markdown",
     "checksum": "dfe2cc741c44b9b1128dd6f7098088f2",
     "grade": false,
     "grade_id": "cell-ff2d7f49f82eff",
     "locked": true,
     "schema_version": 3,
     "solution": false,
     "task": false
    }
   },
   "source": [
    "**Question2** Define the function `safe_read(path)`. The function open the file `path` and read the content with of the file with:\n",
    "\n",
    "```py\n",
    "with open(path) as file:\n",
    "    contents = file.read()\n",
    "```\n",
    "\n",
    "Handle the FileNotFoundError by returning a None\n"
   ]
  },
  {
   "cell_type": "code",
   "execution_count": null,
   "metadata": {
    "ExecuteTime": {
     "end_time": "2023-07-01T02:47:31.921727Z",
     "start_time": "2023-07-01T02:47:31.910466Z"
    },
    "code_folding": [],
    "deletable": false,
    "nbgrader": {
     "cell_type": "code",
     "checksum": "45392c4a4df1fc4b70d2e31f67828ea4",
     "grade": false,
     "grade_id": "cell-e6c1d5cea249b3",
     "locked": false,
     "schema_version": 3,
     "solution": true,
     "task": false
    }
   },
   "outputs": [],
   "source": [
    "\n",
    "def safe_read(path):\n",
    "    # YOUR CODE HERE\n",
    "\n",
    "\n",
    "# Test the function\n"
   ]
  },
  {
   "cell_type": "code",
   "execution_count": null,
   "metadata": {
    "ExecuteTime": {
     "end_time": "2023-07-01T02:39:28.834300Z",
     "start_time": "2023-07-01T02:39:28.831758Z"
    },
    "deletable": false,
    "editable": false,
    "nbgrader": {
     "cell_type": "code",
     "checksum": "beb64e151b4addebe8bed158f6d3f0cb",
     "grade": true,
     "grade_id": "cell-3b9c1a3bcadab",
     "locked": true,
     "points": 10,
     "schema_version": 3,
     "solution": false,
     "task": false
    }
   },
   "outputs": [],
   "source": []
  },
  {
   "cell_type": "code",
   "execution_count": null,
   "metadata": {
    "ExecuteTime": {
     "end_time": "2023-07-01T02:42:32.564926Z",
     "start_time": "2023-07-01T02:42:32.558736Z"
    },
    "deletable": false,
    "editable": false,
    "nbgrader": {
     "cell_type": "code",
     "checksum": "ab84a29ab9ccf57f211d4c3ca31053e0",
     "grade": true,
     "grade_id": "cell-ac01cacfb360ac",
     "locked": true,
     "points": 10,
     "schema_version": 3,
     "solution": false,
     "task": false
    }
   },
   "outputs": [],
   "source": []
  },
  {
   "cell_type": "markdown",
   "metadata": {
    "deletable": false,
    "editable": false,
    "nbgrader": {
     "cell_type": "markdown",
     "checksum": "b0129d4ce363e820c014213f29dfbd82",
     "grade": false,
     "grade_id": "cell-3d22f023bbea8",
     "locked": true,
     "schema_version": 3,
     "solution": false,
     "task": false
    }
   },
   "source": [
    "**Question3** Define a function `safe_intsum(list1)` that converts each element of `list1` to an integer and returns the sum of all integer numbers.\n",
    "\n",
    "* Handle the `ValueError` exception if the `list1` contain any invalid input (e.g., a non-numeric value). In this case, skip the value and return the sum of all valid numbers. If all elements are invalid, return 0\n",
    "\n"
   ]
  },
  {
   "cell_type": "code",
   "execution_count": null,
   "metadata": {
    "ExecuteTime": {
     "end_time": "2023-07-01T02:53:54.435738Z",
     "start_time": "2023-07-01T02:53:54.428574Z"
    },
    "deletable": false,
    "nbgrader": {
     "cell_type": "code",
     "checksum": "2c4b8921dcd43cd77bec4919d662054e",
     "grade": false,
     "grade_id": "cell-cee96680ffa1d",
     "locked": false,
     "schema_version": 3,
     "solution": true,
     "task": false
    }
   },
   "outputs": [],
   "source": [
    "def safe_intsum(list1):\n",
    "    # YOUR CODE HERE\n",
    "\n",
    "\n",
    "# Test the function\n"
   ]
  },
  {
   "cell_type": "code",
   "execution_count": null,
   "metadata": {
    "deletable": false,
    "editable": false,
    "nbgrader": {
     "cell_type": "code",
     "checksum": "bd9535ac86998020a1e134a7e4dab367",
     "grade": true,
     "grade_id": "cell-f7b9a7f7dee3",
     "locked": true,
     "points": 10,
     "schema_version": 3,
     "solution": false,
     "task": false
    }
   },
   "outputs": [],
   "source": []
  },
  {
   "cell_type": "code",
   "execution_count": null,
   "metadata": {
    "ExecuteTime": {
     "end_time": "2023-07-01T02:56:16.014121Z",
     "start_time": "2023-07-01T02:56:16.011292Z"
    },
    "deletable": false,
    "editable": false,
    "nbgrader": {
     "cell_type": "code",
     "checksum": "ff65e435e9d332d3a3384e04c9d6ede6",
     "grade": true,
     "grade_id": "cell-c8e17cace052",
     "locked": true,
     "points": 10,
     "schema_version": 3,
     "solution": false,
     "task": false
    }
   },
   "outputs": [],
   "source": []
  },
  {
   "cell_type": "markdown",
   "metadata": {},
   "source": [
    "## Raise Exceptions"
   ]
  },
  {
   "cell_type": "markdown",
   "metadata": {},
   "source": [
    "As a Python developer you can choose to throw an exception if a condition occurs.\n",
    "To throw an exception, use the `raise` keyword."
   ]
  },
  {
   "cell_type": "code",
   "execution_count": null,
   "metadata": {
    "ExecuteTime": {
     "end_time": "2023-07-01T03:10:42.170425Z",
     "start_time": "2023-07-01T03:10:42.161037Z"
    }
   },
   "outputs": [],
   "source": [
    "x = -1\n",
    "\n",
    "if x < 0:\n",
    "    raise Exception(\"x should be a positive number\")"
   ]
  },
  {
   "cell_type": "code",
   "execution_count": null,
   "metadata": {
    "ExecuteTime": {
     "end_time": "2023-07-01T03:11:01.020873Z",
     "start_time": "2023-07-01T03:11:01.013295Z"
    }
   },
   "outputs": [],
   "source": [
    "x = \"hello\"\n",
    "\n",
    "if not type(x) is int:\n",
    "    raise TypeError(\"Only integers are allowed\")"
   ]
  },
  {
   "cell_type": "code",
   "execution_count": null,
   "metadata": {
    "ExecuteTime": {
     "end_time": "2023-07-01T03:13:58.762521Z",
     "start_time": "2023-07-01T03:13:58.757779Z"
    }
   },
   "outputs": [],
   "source": [
    "## \n",
    "def sum_to(x):\n",
    "    \"\"\"\n",
    "    This function sum all positive integers from 1 to x\n",
    "    \"\"\"\n",
    "\n",
    "    if x < 0:\n",
    "        raise Exception(\"x should be a positive number\")\n",
    "     \n",
    "    return sum(range(x+1))\n",
    "\n",
    "\n",
    "\n",
    "    "
   ]
  },
  {
   "cell_type": "code",
   "execution_count": null,
   "metadata": {
    "ExecuteTime": {
     "end_time": "2023-07-01T03:17:55.294865Z",
     "start_time": "2023-07-01T03:17:55.290943Z"
    }
   },
   "outputs": [],
   "source": [
    "# The function sum_to(x) will raise and exception whenever the argument x is negative. \n",
    "# You can now catch this exception with  try ...except\n",
    "\n",
    "try:\n",
    "    sum_to(-1)\n",
    "except Exception as e:\n",
    "    print(e)"
   ]
  },
  {
   "cell_type": "markdown",
   "metadata": {
    "deletable": false,
    "editable": false,
    "nbgrader": {
     "cell_type": "markdown",
     "checksum": "0ab4282bc3f4232843fdb6f765d9a0c8",
     "grade": false,
     "grade_id": "cell-7371bcff159d8a03",
     "locked": true,
     "schema_version": 3,
     "solution": false,
     "task": false
    }
   },
   "source": [
    "### Exercise"
   ]
  },
  {
   "cell_type": "markdown",
   "metadata": {
    "deletable": false,
    "editable": false,
    "nbgrader": {
     "cell_type": "markdown",
     "checksum": "441013ab6df2a5bbcdd8e3580d4b2362",
     "grade": false,
     "grade_id": "cell-4723a507162a5cea",
     "locked": true,
     "schema_version": 3,
     "solution": false,
     "task": false
    }
   },
   "source": [
    "**Question** Define a function `user_factorial(n)` that return the factorial of `n`. If the user input a negative n, raise an exception (error) \"InputNegative\".\n",
    "\n",
    "**Hint** \n",
    "* The factorial of 0 is 1\n",
    "* The factorial of any other number can be calculated with a for loop by multiplying all numbers in `range(1,n+1)`\n"
   ]
  },
  {
   "cell_type": "code",
   "execution_count": null,
   "metadata": {
    "ExecuteTime": {
     "end_time": "2023-07-01T03:26:28.742198Z",
     "start_time": "2023-07-01T03:26:28.737782Z"
    },
    "deletable": false,
    "nbgrader": {
     "cell_type": "code",
     "checksum": "57f7599b21c5dc7e6fd94513321f116f",
     "grade": false,
     "grade_id": "cell-6e2e844f7327c2",
     "locked": false,
     "schema_version": 3,
     "solution": true,
     "task": false
    }
   },
   "outputs": [],
   "source": [
    "\n",
    "def user_factorial(n):\n",
    "    # YOUR CODE HERE\n",
    "\n"
   ]
  },
  {
   "cell_type": "code",
   "execution_count": null,
   "metadata": {
    "ExecuteTime": {
     "end_time": "2023-07-01T03:26:29.017565Z",
     "start_time": "2023-07-01T03:26:29.015276Z"
    },
    "deletable": false,
    "editable": false,
    "nbgrader": {
     "cell_type": "code",
     "checksum": "85d41d03d9f2bbe3ae16dc1caf65d3b1",
     "grade": true,
     "grade_id": "cell-2668d5b525fe7d",
     "locked": true,
     "points": 5,
     "schema_version": 3,
     "solution": false,
     "task": false
    }
   },
   "outputs": [],
   "source": []
  },
  {
   "cell_type": "code",
   "execution_count": null,
   "metadata": {
    "deletable": false,
    "editable": false,
    "nbgrader": {
     "cell_type": "code",
     "checksum": "41eba26f7aaad57cac291d197643ee32",
     "grade": true,
     "grade_id": "cell-f2ec93920f7c68",
     "locked": true,
     "points": 7,
     "schema_version": 3,
     "solution": false,
     "task": false
    }
   },
   "outputs": [],
   "source": []
  },
  {
   "cell_type": "code",
   "execution_count": null,
   "metadata": {
    "ExecuteTime": {
     "end_time": "2023-07-01T03:34:00.749761Z",
     "start_time": "2023-07-01T03:34:00.745422Z"
    },
    "deletable": false,
    "editable": false,
    "nbgrader": {
     "cell_type": "code",
     "checksum": "47c4a7c3857cf5837887b9826ff94f58",
     "grade": true,
     "grade_id": "cell-2c0f382b1ddeb",
     "locked": true,
     "points": 8,
     "schema_version": 3,
     "solution": false,
     "task": false
    }
   },
   "outputs": [],
   "source": []
  },
  {
   "cell_type": "markdown",
   "metadata": {},
   "source": [
    "## Assertions"
   ]
  },
  {
   "cell_type": "markdown",
   "metadata": {},
   "source": [
    "* The `assert` statement will help you check the validity of an expression. If the expression is false, Python raises an `AssertionError` exception.\n",
    "* Programmers often place assertions to check whether the input or the result obtained fulfills the expectation."
   ]
  },
  {
   "cell_type": "markdown",
   "metadata": {},
   "source": [
    "**Syntax**\n",
    "```py\n",
    "assert Expression[, ArgumentExpression]\n",
    "```"
   ]
  },
  {
   "cell_type": "markdown",
   "metadata": {},
   "source": [
    "* If the assertion fails, Python uses `ArgumentExpression` as the argument for the `AssertionError`. `AssertionError` exceptions can be caught and handled like any other exception using the `try-except` statement, but if not handled, they will terminate the program and produce a traceback."
   ]
  },
  {
   "cell_type": "markdown",
   "metadata": {},
   "source": [
    "**Example**"
   ]
  },
  {
   "cell_type": "code",
   "execution_count": null,
   "metadata": {
    "ExecuteTime": {
     "end_time": "2023-07-01T03:05:50.756726Z",
     "start_time": "2023-07-01T03:05:50.735355Z"
    }
   },
   "outputs": [],
   "source": [
    "def KelvinToFahrenheit(Temperature):\n",
    "    assert Temperature >= 0, \"So cold, temperature below zero\"\n",
    "    return (Temperature - 273) * 1.8 + 32\n",
    "\n",
    "print (KelvinToFahrenheit(273))\n",
    "print (int(KelvinToFahrenheit(505.78)))\n",
    "print (KelvinToFahrenheit(-5))"
   ]
  },
  {
   "cell_type": "code",
   "execution_count": null,
   "metadata": {},
   "outputs": [],
   "source": [
    "def KelvinToFahrenheit(Temperature):\n",
    "    try:\n",
    "        assert Temperature >= 0\n",
    "        return (Temperature - 273) * 1.8 + 32\n",
    "    except AssertionError:\n",
    "        print ('So cold, temperature below zero')\n",
    "        "
   ]
  },
  {
   "cell_type": "code",
   "execution_count": null,
   "metadata": {},
   "outputs": [],
   "source": [
    "KelvinToFahrenheit(-10)"
   ]
  },
  {
   "cell_type": "markdown",
   "metadata": {
    "deletable": false,
    "editable": false,
    "nbgrader": {
     "cell_type": "markdown",
     "checksum": "3af16021cf3a984f0ebc2940d7c37422",
     "grade": false,
     "grade_id": "cell-777f70eeff1fa1",
     "locked": true,
     "schema_version": 3,
     "solution": false,
     "task": false
    }
   },
   "source": [
    "### Exercises"
   ]
  },
  {
   "cell_type": "markdown",
   "metadata": {},
   "source": [
    "Define a function `multiply(int1, int2)` that returns the product `int1*int2`. Add an assertion to ensure that both input values are integers. (Do not convert to integer, but just assert)\n",
    "\n",
    "**Hint**: \n",
    "```py\n",
    "isinstance(2, int)\n",
    "isinstance(2.2, int)\n",
    "```\n"
   ]
  },
  {
   "cell_type": "code",
   "execution_count": null,
   "metadata": {
    "ExecuteTime": {
     "end_time": "2023-07-01T03:43:55.856717Z",
     "start_time": "2023-07-01T03:43:55.819335Z"
    },
    "deletable": false,
    "nbgrader": {
     "cell_type": "code",
     "checksum": "b593810822026e00f2d90787d9820351",
     "grade": false,
     "grade_id": "cell-e4b093783d077",
     "locked": false,
     "schema_version": 3,
     "solution": true,
     "task": false
    }
   },
   "outputs": [],
   "source": [
    "def multiply(int1, int2):\n",
    "    # YOUR CODE HERE\n",
    "    \n",
    "# Test the function\n",
    "print(multiply(5, 6))   # Output: 30\n",
    "print(multiply(4, 'hello')) "
   ]
  },
  {
   "cell_type": "code",
   "execution_count": null,
   "metadata": {
    "ExecuteTime": {
     "end_time": "2023-07-01T03:44:30.038840Z",
     "start_time": "2023-07-01T03:44:30.031858Z"
    },
    "deletable": false,
    "editable": false,
    "nbgrader": {
     "cell_type": "code",
     "checksum": "e86df2c011cac903a4388a5f8c5bb83e",
     "grade": true,
     "grade_id": "cell-1f497d95a6ef73",
     "locked": true,
     "points": 5,
     "schema_version": 3,
     "solution": false,
     "task": false
    }
   },
   "outputs": [],
   "source": []
  },
  {
   "cell_type": "code",
   "execution_count": null,
   "metadata": {
    "ExecuteTime": {
     "end_time": "2023-07-01T03:46:02.305871Z",
     "start_time": "2023-07-01T03:46:02.300801Z"
    },
    "deletable": false,
    "editable": false,
    "nbgrader": {
     "cell_type": "code",
     "checksum": "b75e77b57a09c685271cbfc7869a638c",
     "grade": true,
     "grade_id": "cell-4bc95d7e444dd",
     "locked": true,
     "points": 10,
     "schema_version": 3,
     "solution": false,
     "task": false
    }
   },
   "outputs": [],
   "source": []
  },
  {
   "cell_type": "code",
   "execution_count": null,
   "metadata": {
    "ExecuteTime": {
     "end_time": "2023-07-01T03:47:51.300633Z",
     "start_time": "2023-07-01T03:47:51.290776Z"
    },
    "deletable": false,
    "editable": false,
    "nbgrader": {
     "cell_type": "code",
     "checksum": "8618aa5bc41406dc04300554449a078d",
     "grade": true,
     "grade_id": "cell-2b3c76310b84f",
     "locked": true,
     "points": 10,
     "schema_version": 3,
     "solution": false,
     "task": false
    }
   },
   "outputs": [],
   "source": []
  },
  {
   "cell_type": "code",
   "execution_count": null,
   "metadata": {},
   "outputs": [],
   "source": []
  }
 ],
 "metadata": {
  "kernelspec": {
   "display_name": "Python 3 (ipykernel)",
   "language": "python",
   "name": "python3"
  },
  "language_info": {
   "codemirror_mode": {
    "name": "ipython",
    "version": 3
   },
   "file_extension": ".py",
   "mimetype": "text/x-python",
   "name": "python",
   "nbconvert_exporter": "python",
   "pygments_lexer": "ipython3",
   "version": "3.8.10"
  },
  "latex_envs": {
   "LaTeX_envs_menu_present": true,
   "autoclose": false,
   "autocomplete": true,
   "bibliofile": "biblio.bib",
   "cite_by": "apalike",
   "current_citInitial": 1,
   "eqLabelWithNumbers": true,
   "eqNumInitial": 1,
   "hotkeys": {
    "equation": "Ctrl-E",
    "itemize": "Ctrl-I"
   },
   "labels_anchors": false,
   "latex_user_defs": false,
   "report_style_numbering": false,
   "user_envs_cfg": false
  },
  "toc": {
   "base_numbering": 1,
   "nav_menu": {},
   "number_sections": true,
   "sideBar": true,
   "skip_h1_title": true,
   "title_cell": "Table of Contents",
   "title_sidebar": "Contents",
   "toc_cell": true,
   "toc_position": {
    "height": "calc(100% - 180px)",
    "left": "10px",
    "top": "150px",
    "width": "316.889px"
   },
   "toc_section_display": true,
   "toc_window_display": true
  }
 },
 "nbformat": 4,
 "nbformat_minor": 1
}
